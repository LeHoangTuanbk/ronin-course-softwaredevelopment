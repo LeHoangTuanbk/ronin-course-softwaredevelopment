{
 "cells": [
  {
   "cell_type": "markdown",
   "metadata": {},
   "source": [
    "## 1. Homework\n",
    "\n",
    "## Find duplicate lines\n",
    "\n",
    "- Remove duplicate lines\n",
    "- Remove duplicate lines and the original line\n",
    "\n",
    "U123\n",
    "\n",
    "U234\n",
    "\n",
    "U452\n",
    "\n",
    "U341\n",
    "\n",
    "U123\n",
    "\n",
    "U789\n",
    "\n",
    "U1092\n",
    "\n",
    "U109\n",
    "\n",
    "U2342\n",
    "\n",
    "U1092\n",
    "\n",
    "U603\n",
    "\n",
    "U745\n"
   ]
  },
  {
   "cell_type": "code",
   "execution_count": 8,
   "metadata": {},
   "outputs": [],
   "source": [
    "text = \"\"\"U123\n",
    "U234\n",
    "U452\n",
    "U341\n",
    "U123\n",
    "U789\n",
    "U1092\n",
    "U109\n",
    "U2342\n",
    "U1092\n",
    "U603\n",
    "U745\n",
    "\"\"\"\n"
   ]
  },
  {
   "cell_type": "code",
   "execution_count": 9,
   "metadata": {},
   "outputs": [
    {
     "name": "stdout",
     "output_type": "stream",
     "text": [
      "U123\n",
      "U234\n",
      "U452\n",
      "U341\n",
      "U123\n",
      "U789\n",
      "U1092\n",
      "U109\n",
      "U2342\n",
      "U1092\n",
      "U603\n",
      "U745\n",
      "\n"
     ]
    }
   ],
   "source": [
    "print(text)"
   ]
  },
  {
   "cell_type": "markdown",
   "metadata": {},
   "source": [
    "## 2. Native solution\n"
   ]
  },
  {
   "cell_type": "code",
   "execution_count": 18,
   "metadata": {},
   "outputs": [],
   "source": [
    "lines = text.split('\\n')"
   ]
  },
  {
   "cell_type": "code",
   "execution_count": 17,
   "metadata": {},
   "outputs": [
    {
     "name": "stdout",
     "output_type": "stream",
     "text": [
      "U123\n",
      "U234\n",
      "U452\n",
      "U341\n",
      "U789\n",
      "U1092\n",
      "U109\n",
      "U2342\n",
      "U603\n",
      "U745\n",
      "\n"
     ]
    }
   ],
   "source": [
    "# Remove duplicate lines\n",
    "set_lines = set()\n",
    "unique_lines = []\n",
    "for line in lines:\n",
    "    if line not in set_lines:\n",
    "        set_lines.add(line)\n",
    "        unique_lines.append(line)\n",
    "\n",
    "print('\\n'.join(unique_lines))\n",
    "\n"
   ]
  },
  {
   "cell_type": "code",
   "execution_count": 20,
   "metadata": {},
   "outputs": [
    {
     "name": "stdout",
     "output_type": "stream",
     "text": [
      "U234\n",
      "U452\n",
      "U341\n",
      "U789\n",
      "U109\n",
      "U2342\n",
      "U603\n",
      "U745\n",
      "\n"
     ]
    }
   ],
   "source": [
    "# Remove duplicate lines and the original line\n",
    "only_once_lines = []\n",
    "for line in lines: \n",
    "    if line not in only_once_lines:\n",
    "        only_once_lines.append(line)\n",
    "    else: \n",
    "        only_once_lines.remove(line)\n",
    "\n",
    "print('\\n'.join(only_once_lines))\n",
    "\n"
   ]
  },
  {
   "cell_type": "markdown",
   "metadata": {},
   "source": [
    "## 3. Regex solution\n",
    "\n",
    "Haven't found a solution yet\n"
   ]
  },
  {
   "cell_type": "code",
   "execution_count": 21,
   "metadata": {},
   "outputs": [],
   "source": [
    "import re"
   ]
  },
  {
   "cell_type": "code",
   "execution_count": null,
   "metadata": {},
   "outputs": [],
   "source": [
    "# Remove duplicate lines and the original line"
   ]
  }
 ],
 "metadata": {
  "kernelspec": {
   "display_name": "Python 3",
   "language": "python",
   "name": "python3"
  },
  "language_info": {
   "codemirror_mode": {
    "name": "ipython",
    "version": 3
   },
   "file_extension": ".py",
   "mimetype": "text/x-python",
   "name": "python",
   "nbconvert_exporter": "python",
   "pygments_lexer": "ipython3",
   "version": "3.11.10"
  }
 },
 "nbformat": 4,
 "nbformat_minor": 2
}
